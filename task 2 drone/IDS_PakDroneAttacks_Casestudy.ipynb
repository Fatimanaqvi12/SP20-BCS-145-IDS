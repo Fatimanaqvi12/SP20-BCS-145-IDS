{
 "cells": [
  {
   "cell_type": "code",
   "execution_count": 2,
   "metadata": {
    "id": "Mk8WYl2nt0dA"
   },
   "outputs": [
    {
     "name": "stdout",
     "output_type": "stream",
     "text": [
      "Requirement already satisfied: geopandas in f:\\anaconda\\envs\\geo_env\\lib\\site-packages (0.11.1)\n",
      "Requirement already satisfied: shapely<2,>=1.7 in f:\\anaconda\\envs\\geo_env\\lib\\site-packages (from geopandas) (1.8.4)\n",
      "Requirement already satisfied: fiona>=1.8 in f:\\anaconda\\envs\\geo_env\\lib\\site-packages (from geopandas) (1.8.21)\n",
      "Requirement already satisfied: pandas>=1.0.0 in f:\\anaconda\\envs\\geo_env\\lib\\site-packages (from geopandas) (1.5.0)\n",
      "Requirement already satisfied: pyproj>=2.6.1.post1 in f:\\anaconda\\envs\\geo_env\\lib\\site-packages (from geopandas) (3.4.0)\n",
      "Requirement already satisfied: packaging in f:\\anaconda\\envs\\geo_env\\lib\\site-packages (from geopandas) (21.3)\n",
      "Requirement already satisfied: attrs>=17 in f:\\anaconda\\envs\\geo_env\\lib\\site-packages (from fiona>=1.8->geopandas) (22.1.0)\n",
      "Requirement already satisfied: certifi in f:\\anaconda\\envs\\geo_env\\lib\\site-packages (from fiona>=1.8->geopandas) (2022.9.24)\n",
      "Requirement already satisfied: click>=4.0 in f:\\anaconda\\envs\\geo_env\\lib\\site-packages (from fiona>=1.8->geopandas) (8.1.3)\n",
      "Requirement already satisfied: cligj>=0.5 in f:\\anaconda\\envs\\geo_env\\lib\\site-packages (from fiona>=1.8->geopandas) (0.7.2)\n",
      "Requirement already satisfied: click-plugins>=1.0 in f:\\anaconda\\envs\\geo_env\\lib\\site-packages (from fiona>=1.8->geopandas) (1.1.1)\n",
      "Requirement already satisfied: six>=1.7 in f:\\anaconda\\envs\\geo_env\\lib\\site-packages (from fiona>=1.8->geopandas) (1.16.0)\n",
      "Requirement already satisfied: munch in f:\\anaconda\\envs\\geo_env\\lib\\site-packages (from fiona>=1.8->geopandas) (2.5.0)\n",
      "Requirement already satisfied: setuptools in f:\\anaconda\\envs\\geo_env\\lib\\site-packages (from fiona>=1.8->geopandas) (65.4.1)\n",
      "Requirement already satisfied: pytz>=2020.1 in f:\\anaconda\\envs\\geo_env\\lib\\site-packages (from pandas>=1.0.0->geopandas) (2022.4)\n",
      "Requirement already satisfied: python-dateutil>=2.8.1 in f:\\anaconda\\envs\\geo_env\\lib\\site-packages (from pandas>=1.0.0->geopandas) (2.8.2)\n",
      "Requirement already satisfied: numpy>=1.21.0 in f:\\anaconda\\envs\\geo_env\\lib\\site-packages (from pandas>=1.0.0->geopandas) (1.23.3)\n",
      "Requirement already satisfied: pyparsing!=3.0.5,>=2.0.2 in f:\\anaconda\\envs\\geo_env\\lib\\site-packages (from packaging->geopandas) (3.0.9)\n",
      "Requirement already satisfied: colorama in f:\\anaconda\\envs\\geo_env\\lib\\site-packages (from click>=4.0->fiona>=1.8->geopandas) (0.4.5)\n"
     ]
    }
   ],
   "source": [
    "#install geopandas library\n",
    "!pip install geopandas"
   ]
  },
  {
   "cell_type": "code",
   "execution_count": 2,
   "metadata": {
    "id": "PpVg_ENkt3Af"
   },
   "outputs": [
    {
     "name": "stdout",
     "output_type": "stream",
     "text": [
      "Requirement already satisfied: mapclassify in f:\\anaconda\\lib\\site-packages (2.4.3)\n",
      "Requirement already satisfied: numpy>=1.3 in f:\\anaconda\\lib\\site-packages (from mapclassify) (1.21.5)\n",
      "Requirement already satisfied: networkx in f:\\anaconda\\lib\\site-packages (from mapclassify) (2.7.1)\n",
      "Requirement already satisfied: scikit-learn in f:\\anaconda\\lib\\site-packages (from mapclassify) (1.0.2)\n",
      "Requirement already satisfied: pandas>=1.0 in f:\\anaconda\\lib\\site-packages (from mapclassify) (1.4.2)\n",
      "Requirement already satisfied: scipy>=1.0 in f:\\anaconda\\lib\\site-packages (from mapclassify) (1.7.3)\n",
      "Requirement already satisfied: pytz>=2020.1 in f:\\anaconda\\lib\\site-packages (from pandas>=1.0->mapclassify) (2021.3)\n",
      "Requirement already satisfied: python-dateutil>=2.8.1 in f:\\anaconda\\lib\\site-packages (from pandas>=1.0->mapclassify) (2.8.2)\n",
      "Requirement already satisfied: six>=1.5 in f:\\anaconda\\lib\\site-packages (from python-dateutil>=2.8.1->pandas>=1.0->mapclassify) (1.16.0)\n",
      "Requirement already satisfied: threadpoolctl>=2.0.0 in f:\\anaconda\\lib\\site-packages (from scikit-learn->mapclassify) (2.2.0)\n",
      "Requirement already satisfied: joblib>=0.11 in f:\\anaconda\\lib\\site-packages (from scikit-learn->mapclassify) (1.1.0)\n"
     ]
    }
   ],
   "source": [
    "#install mapclassify library\n",
    "!pip install mapclassify"
   ]
  },
  {
   "cell_type": "code",
   "execution_count": null,
   "metadata": {
    "id": "WBpKQfwbt9ia"
   },
   "outputs": [],
   "source": [
    "#import libraries\n",
    "import geopandas as gpd\n",
    "import pandas as pd"
   ]
  },
  {
   "cell_type": "code",
   "execution_count": null,
   "metadata": {
    "id": "AZLiF-w8upy8"
   },
   "outputs": [],
   "source": [
    "#import Google Drive and mount the entire drive\n",
    "#from google.colab import drive\n",
    "#drive.mount('/content/drive')"
   ]
  },
  {
   "cell_type": "code",
   "execution_count": null,
   "metadata": {
    "id": "3AnMf71kuUNx"
   },
   "outputs": [],
   "source": [
    "#load the dataset (csv file) into the Pandas dataframe\n",
    "df = pd.read_csv('drone.csv')\n",
    "df"
   ]
  },
  {
   "cell_type": "code",
   "execution_count": null,
   "metadata": {
    "id": "ZP6Kh0UXuXeJ"
   },
   "outputs": [],
   "source": [
    "#load world map file\n",
    "world = gpd.read_file(gpd.datasets.get_path(\"naturalearth_lowres\"))"
   ]
  },
  {
   "cell_type": "code",
   "execution_count": 8,
   "metadata": {
    "id": "uXCuZO6Eu4Kd"
   },
   "outputs": [
    {
     "data": {
      "text/plain": [
       "<AxesSubplot: >"
      ]
     },
     "execution_count": 8,
     "metadata": {},
     "output_type": "execute_result"
    },
    {
     "data": {
      "image/png": "[encoded data removed]",
      "text/plain": [
       "<Figure size 640x480 with 1 Axes>"
      ]
     },
     "metadata": {},
     "output_type": "display_data"
    }
   ],
   "source": [
    "#plot co-ordinates values\n",
    "dronesmap = gpd.GeoDataFrame(df, geometry=gpd.points_from_xy(x=df.Longitude, y=df.Latitude))\n",
    "dronesmap.plot()"
   ]
  },
  {
   "cell_type": "code",
   "execution_count": null,
   "metadata": {
    "id": "WN2O_9RKu6ho"
   },
   "outputs": [],
   "source": [
    "#plot co-ordinates values on the map\n",
    "displaymap = dronesmap.set_crs(epsg=4326)\n",
    "displaymap.crs\n",
    "displaymap.explore()"
   ]
  },
  {
   "cell_type": "code",
   "execution_count": null,
   "metadata": {},
   "outputs": [],
   "source": []
  }
 ],
 "metadata": {
  "colab": {
   "provenance": []
  },
  "kernelspec": {
   "display_name": "Python 3 (ipykernel)",
   "language": "python",
   "name": "python3"
  },
  "language_info": {
   "codemirror_mode": {
    "name": "ipython",
    "version": 3
   },
   "file_extension": ".py",
   "mimetype": "text/x-python",
   "name": "python",
   "nbconvert_exporter": "python",
   "pygments_lexer": "ipython3",
   "version": "3.10.6"
  }
 },
 "nbformat": 4,
 "nbformat_minor": 1
}
